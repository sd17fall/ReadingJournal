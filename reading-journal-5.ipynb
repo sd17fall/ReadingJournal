{
 "cells": [
  {
   "cell_type": "markdown",
   "metadata": {},
   "source": [
    "# Day 5 Reading Journal\n",
    "\n",
    "Reading: _Think Python_ [Chapter 4](http://www.greenteapress.com/thinkpython2/html/thinkpython2005.html)"
   ]
  },
  {
   "cell_type": "markdown",
   "metadata": {},
   "source": [
    "## [Chapter 4](http://www.greenteapress.com/thinkpython2/html/thinkpython2005.html)\n",
    "\n",
    "In today's reading, you will be exploring the `turtle` module, which allows you to create images using [turtle graphics](https://en.wikipedia.org/wiki/Turtle_graphics)."
   ]
  },
  {
   "cell_type": "markdown",
   "metadata": {},
   "source": [
    "### Get started\n",
    "\n",
    "Run `shapes.py` from the command line (`python shapes.py`). You should see brave Bob spring into the world and run forward.\n",
    "\n",
    "You can close the window when you're done by clicking its close box.\n",
    "\n",
    "The following code is listed for reference. It will probably not work within a Jupyter notebook; you will need to run the `shapes.py` file instead."
   ]
  },
  {
   "cell_type": "code",
   "execution_count": null,
   "metadata": {},
   "outputs": [],
   "source": [
    "import turtle\n",
    "\n",
    "# Create the world, and a turtle to put in it\n",
    "bob = turtle.Turtle()\n",
    "\n",
    "# Get moving, turtle!\n",
    "bob.fd(100)\n",
    "\n",
    "# Wait for the user to close the window\n",
    "turtle.mainloop()"
   ]
  },
  {
   "cell_type": "markdown",
   "metadata": {
    "is_question": true,
    "problem": "Section 4.3"
   },
   "source": [
    "### Chapter 4.3\n",
    "Work through exercises 1-4 in Chapter 4.3.\n",
    "\n",
    "Add `square`, `polygon`, and `circle` functions to `shapes.py`, and change the line `bob.fd(100)` of `rj5.py` to call them instead.\n",
    "\n",
    "For example, to complete exercise 1, place the following definition of `square` in the file, and change `bob.fd(100)` to `square(bob)`.\n",
    "\n",
    "You can reference the solutions in the text, but please try the problems on your own first."
   ]
  },
  {
   "cell_type": "code",
   "execution_count": null,
   "metadata": {
    "solution": "Section 4.3"
   },
   "outputs": [],
   "source": [
    "def square(t):  # for part 2 of 4.3, you will add another parameter to this function\n",
    "    \"\"\"Draw a square using turtle t.\"\"\"\n",
    "    pass # replace this line with your code"
   ]
  },
  {
   "cell_type": "markdown",
   "metadata": {
    "is_question": true,
    "problem": "More fun"
   },
   "source": [
    "### Chapter 4.12\n",
    "#### More fun with Turtles!\n",
    "Complete *at least one of* Exercise 2, 3, 4, or 5.\n",
    "\n",
    "We will start class with a gallery show of shapes."
   ]
  },
  {
   "cell_type": "markdown",
   "metadata": {},
   "source": [
    "### Exercise 10.8 (Optional)\n",
    "\n",
    "\\[This exercise is from Reading Journal 4. It is still optional, but you are *strongly* encouraged to try it – it is a helpful warm-up for GeneFinder week 2. If you already completed it in Reading Journal 4 there is no need to enter your work again here.\\]\n",
    "\n",
    "The (so-called) Birthday Paradox:\n",
    "\n",
    "1\\. Write a function called `has_duplicates` that takes a list and returns `True` if there is any element that appears more than once. It should not modify the original list.\n",
    "\n",
    "2\\. If there are 23 students in your class, what are the chances that two of you have the same birthday? Put your answer in the Markdown cell below. You can estimate this probability by generating random samples of 23 birthdays and checking for matches. Hint: you can generate random birthdays with the `randint` function from the [random module](https://docs.python.org/2/library/random.html).\n",
    "\n",
    "You can read about this problem at http://en.wikipedia.org/wiki/Birthday_paradox, and you can download Allen's solution from http://greenteapress.com/thinkpython2/code/birthday.py."
   ]
  },
  {
   "cell_type": "markdown",
   "metadata": {},
   "source": [
    "## Quick poll\n",
    "About how long did you spend working on this Reading Journal?"
   ]
  },
  {
   "cell_type": "markdown",
   "metadata": {},
   "source": []
  },
  {
   "cell_type": "markdown",
   "metadata": {},
   "source": [
    "## Reading Journal feedback\n",
    "\n",
    "Have any comments on this Reading Journal? Feel free to leave them below and we'll read them when you submit your journal entry. This could include suggestions to improve the exercises, topics you'd like to see covered in class next time, or other feedback.\n",
    "\n",
    "If you have Python questions or run into problems while completing the reading, you should post them to Slack instead so you can get a quick response before your journal is submitted."
   ]
  },
  {
   "cell_type": "code",
   "execution_count": null,
   "metadata": {},
   "outputs": [],
   "source": []
  },
  {
   "cell_type": "markdown",
   "metadata": {},
   "source": [
    " "
   ]
  }
 ],
 "metadata": {
  "anaconda-cloud": {},
  "kernelspec": {
   "display_name": "Python 3",
   "language": "python",
   "name": "python3"
  },
  "language_info": {
   "codemirror_mode": {
    "name": "ipython",
    "version": 3
   },
   "file_extension": ".py",
   "mimetype": "text/x-python",
   "name": "python",
   "nbconvert_exporter": "python",
   "pygments_lexer": "ipython3",
   "version": "3.5.2"
  }
 },
 "nbformat": 4,
 "nbformat_minor": 1
}
