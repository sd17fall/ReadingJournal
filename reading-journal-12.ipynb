{
 "cells": [
  {
   "cell_type": "markdown",
   "metadata": {},
   "source": [
    "# Reading Journal 12"
   ]
  },
  {
   "cell_type": "markdown",
   "metadata": {},
   "source": [
    "## Technical Debt"
   ]
  },
  {
   "cell_type": "markdown",
   "metadata": {},
   "source": [
    "Readings:\n",
    "* [\"Technical Debt\"](https://martinfowler.com/bliki/TechnicalDebt.html), Martin Fowler.\n",
    "* [\"TechnicalDebtQuadrant\"](https://martinfowler.com/bliki/TechnicalDebtQuadrant.html), Martin Fowler."
   ]
  },
  {
   "cell_type": "markdown",
   "metadata": {},
   "source": [
    "### Question 1.1\n",
    "\n",
    "Name an example of technical debt in your SoftDes final project. What quadrant is it in? Why?"
   ]
  },
  {
   "cell_type": "markdown",
   "metadata": {},
   "source": []
  },
  {
   "cell_type": "markdown",
   "metadata": {},
   "source": [
    "### Question 1.2\n",
    "\n",
    "Name an example of a different kind (quadrant) of technical debt in a previous software project. (This can be a SoftDes mini-project, or a project for another class or outside of class.) What quadrant is it? Why?"
   ]
  },
  {
   "cell_type": "markdown",
   "metadata": {},
   "source": []
  },
  {
   "cell_type": "markdown",
   "metadata": {},
   "source": [
    "## [Chapter 19](http://greenteapress.com/thinkpython2/html/thinkpython2020.html)\n",
    "\n",
    "Reading: _Thing Python_, [Chapter 19 \"The Goodies\"](http://greenteapress.com/thinkpython2/html/thinkpython2020.html)\n",
    "\n",
    "This reading is “the goodies” - all the cool Python features that aren't strictly necessary but can make your code more concise, readable, and/or efficient.\n",
    "\n",
    "You can read any of the sections you like, but we particularly recommend sections 2, 5, 9."
   ]
  },
  {
   "cell_type": "markdown",
   "metadata": {},
   "source": [
    "## [Exceptions](https://docs.python.org/3/tutorial/errors.html)\n",
    "\n",
    "Read about Exceptions in Python and how to handle them (through section 8.4).\n",
    "\n",
    "Advanced (optional): Check out [context managers](https://docs.python.org/3/reference/datamodel.html#context-managers) and the [`with` statement](https://www.python.org/dev/peps/pep-0343/)."
   ]
  },
  {
   "cell_type": "markdown",
   "metadata": {
    "is_question": true,
    "problem": "Exercise 19.2"
   },
   "source": [
    "### Exercise 2 \n",
    "\n",
    "Complete the following function using an exception handler. How else might you implement it?"
   ]
  },
  {
   "cell_type": "code",
   "execution_count": null,
   "metadata": {
    "solution": "Exercise 19.2"
   },
   "outputs": [],
   "source": [
    "names = {\"Paul\": \"Ruvolo\", \"Oliver\": \"Steele\", \"Ben\": \"Hill\", \"Amon\": \"Millner\", \"Allen\": \"Downey\"}\n",
    "\n",
    "def hypotenuse(a, b):\n",
    "    \"\"\"Greet computing faculty by last name, and others with some skepticism.\n",
    "    \n",
    "    >>> formal_greeting(\"Oliver\", names)\n",
    "    Hello, Professor Steele!\n",
    "    >>> formal_greeting(\"Jasper\", names)\n",
    "    Howdy, stranger!\n",
    "    \"\"\"\n",
    "    print \"Hello, Professor {}!\".format(name_dict[first_name])\n",
    "\n",
    "doctest.run_docstring_examples(formal_greeting, globals())    "
   ]
  },
  {
   "cell_type": "markdown",
   "metadata": {
    "poll_response": true,
    "solution": "Time spent"
   },
   "source": [
    " "
   ]
  },
  {
   "cell_type": "markdown",
   "metadata": {
    "is_question": true,
    "problem": "Feedback"
   },
   "source": [
    "## Reading Journal feedback\n",
    "\n",
    "Have any comments on this Reading Journal? Feel free to leave them below and we'll read them when you submit your journal entry."
   ]
  },
  {
   "cell_type": "markdown",
   "metadata": {
    "feedback_response": true,
    "solution": "Feedback"
   },
   "source": [
    " "
   ]
  }
 ],
 "metadata": {
  "kernelspec": {
   "display_name": "Python 2",
   "language": "python",
   "name": "python2"
  },
  "language_info": {
   "codemirror_mode": {
    "name": "ipython",
    "version": 2
   },
   "file_extension": ".py",
   "mimetype": "text/x-python",
   "name": "python",
   "nbconvert_exporter": "python",
   "pygments_lexer": "ipython2",
   "version": "2.7.10"
  }
 },
 "nbformat": 4,
 "nbformat_minor": 1
}
