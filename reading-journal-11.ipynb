{
 "cells": [
  {
   "cell_type": "markdown",
   "metadata": {},
   "source": [
    "# Day 21 Reading Journal\n",
    "\n",
    "Readings:\n",
    "\n",
    "* _Think Python_ [Appendix B](http://greenteapress.com/thinkpython2/html/thinkpython2022.html) (through B.2).\n",
    "* [\"The Surgical Team\"]({% link files/readings/The_Surgical_Team.pdf %}), Fred Brooks, _The Mythical Man-Month, Addison-Wesley (August 12, 1995)."
   ]
  },
  {
   "cell_type": "markdown",
   "metadata": {},
   "source": [
    "## [\"The Surgical Team\"]({% link files/readings/The_Surgical_Team.pdf %})\n",
    "\n",
    "* How does the description of the surgical team in the reading compare to your team?\n",
    "* Is the surgical team concept useful in your project? Why or why not? Are there limits to the situations that it applies to?"
   ]
  },
  {
   "cell_type": "markdown",
   "metadata": {},
   "source": []
  },
  {
   "cell_type": "markdown",
   "metadata": {},
   "source": [
    "## [Appendix B](http://www.greenteapress.com/thinkpython2/html/thinkpython2022.html)\n",
    "\n",
    "You only need to read as far as section B.2 (inclusive), but feel free to go further and try more exercises if you are interested."
   ]
  },
  {
   "cell_type": "markdown",
   "metadata": {
    "is_question": true,
    "problem": "Exercise B.1"
   },
   "source": [
    "### Exercise 1  \n",
    "\n",
    "Read the [Wikipedia page on Big-Oh notation](http://en.wikipedia.org/wiki/Big_O_notation) and answer the following questions:\n",
    "\n",
    " 1. What is the order of growth of $n^3 + n^2$? What about $1000000 n^3 + n^2$? What about $n^3 + 1000000 n^2$?"
   ]
  },
  {
   "cell_type": "markdown",
   "metadata": {},
   "source": []
  },
  {
   "cell_type": "markdown",
   "metadata": {
    "is_question": true,
    "problem": "Exercise B.1"
   },
   "source": [
    " 2\\. What is the order of growth of $(n^2 + n) \\times (n + 1)$? Before you start multiplying, remember that you only need the leading term."
   ]
  },
  {
   "cell_type": "markdown",
   "metadata": {},
   "source": []
  },
  {
   "cell_type": "markdown",
   "metadata": {},
   "source": [
    " 3\\. If $f$ is in $O(g)$, for some unspecified function $g$, what can we say about $af+b$?"
   ]
  },
  {
   "cell_type": "markdown",
   "metadata": {
    "solution": "Exercise B.1"
   },
   "source": []
  },
  {
   "cell_type": "markdown",
   "metadata": {},
   "source": [
    " 4\\. If $f_1$ and $f_2$ are in $O(g)$, what can we say about $f_1 + f_2$?"
   ]
  },
  {
   "cell_type": "markdown",
   "metadata": {
    "solution": "Exercise B.1"
   },
   "source": []
  },
  {
   "cell_type": "markdown",
   "metadata": {},
   "source": [
    " 5\\. If $f_1$ is in $O(g)$ and $f_2$ is in $O(h)$, what can we say about $f_1$ + $f_2$?"
   ]
  },
  {
   "cell_type": "markdown",
   "metadata": {
    "solution": "Exercise B.1"
   },
   "source": []
  },
  {
   "cell_type": "markdown",
   "metadata": {},
   "source": [
    " 6\\. If $f_1$ is in $O(g)$ and $f_2$ is $O(h)$, what can we say about $f_1 \\times f_2$? "
   ]
  },
  {
   "cell_type": "markdown",
   "metadata": {
    "solution": "Exercise B.1"
   },
   "source": []
  },
  {
   "cell_type": "markdown",
   "metadata": {
    "poll_response": true,
    "solution": "Time spent"
   },
   "source": [
    " "
   ]
  },
  {
   "cell_type": "markdown",
   "metadata": {
    "is_question": true,
    "problem": "Feedback"
   },
   "source": [
    "## Reading Journal feedback\n",
    "\n",
    "Have any comments on this Reading Journal? Feel free to leave them below and we'll read them when you submit your journal entry."
   ]
  },
  {
   "cell_type": "markdown",
   "metadata": {},
   "source": []
  },
  {
   "cell_type": "markdown",
   "metadata": {
    "feedback_response": true,
    "solution": "Feedback"
   },
   "source": [
    " "
   ]
  }
 ],
 "metadata": {
  "kernelspec": {
   "display_name": "Python 2",
   "language": "python",
   "name": "python2"
  },
  "language_info": {
   "codemirror_mode": {
    "name": "ipython",
    "version": 2
   },
   "file_extension": ".py",
   "mimetype": "text/x-python",
   "name": "python",
   "nbconvert_exporter": "python",
   "pygments_lexer": "ipython2",
   "version": "2.7.10"
  }
 },
 "nbformat": 4,
 "nbformat_minor": 1
}
