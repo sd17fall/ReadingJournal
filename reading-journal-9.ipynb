{
 "cells": [
  {
   "cell_type": "markdown",
   "metadata": {},
   "source": [
    "# Day 9 Reading Journal\n",
    "\n",
    "Readings:\n",
    "\n",
    "* [Storing API keys]({% link _notebooks/storing-api-keys.md %})\n",
    "* [How to Write a Git Commit Message](https://chris.beams.io/posts/git-commit/)"
   ]
  },
  {
   "cell_type": "markdown",
   "metadata": {
    "is_question": true,
    "problem": "Exercise 15.3"
   },
   "source": [
    "### Modular design\n",
    "\n",
    "Enter your function from the day 10 [Modular Design](https://softdes.olin.build/activities/modular-design) activity.\n",
    "\n",
    "For example, `grid(5, 3)` should produce:\n",
    "\n",
    "    + - - + - - + - - + - - + - - +\n",
    "    |     |     |     |     |     |\n",
    "    |     |     |     |     |     |\n",
    "    + - - + - - + - - + - - + - - +\n",
    "    |     |     |     |     |     |\n",
    "    |     |     |     |     |     |\n",
    "    + - - + - - + - - + - - + - - +\n",
    "    |     |     |     |     |     |\n",
    "    |     |     |     |     |     |\n",
    "    + - - + - - + - - + - - + - - +\n"
   ]
  },
  {
   "cell_type": "code",
   "execution_count": null,
   "metadata": {
    "collapsed": true,
    "solution": "Exercise 15.3"
   },
   "outputs": [],
   "source": [
    "def grid"
   ]
  },
  {
   "cell_type": "markdown",
   "metadata": {
    "poll_response": true,
    "solution": "Time spent"
   },
   "source": [
    " "
   ]
  },
  {
   "cell_type": "markdown",
   "metadata": {
    "is_question": true,
    "problem": "Feedback"
   },
   "source": [
    "## Reading Journal feedback\n",
    "\n",
    "Leave comments on this Reading Journal in the space below."
   ]
  },
  {
   "cell_type": "markdown",
   "metadata": {
    "feedback_response": true,
    "solution": "Feedback"
   },
   "source": [
    " "
   ]
  }
 ],
 "metadata": {
  "kernelspec": {
   "display_name": "Python 3",
   "language": "python",
   "name": "python3"
  },
  "language_info": {
   "codemirror_mode": {
    "name": "ipython",
    "version": 3
   },
   "file_extension": ".py",
   "mimetype": "text/x-python",
   "name": "python",
   "nbconvert_exporter": "python",
   "pygments_lexer": "ipython3",
   "version": "3.5.2"
  }
 },
 "nbformat": 4,
 "nbformat_minor": 1
}
